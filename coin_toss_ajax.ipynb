{
 "cells": [
  {
   "cell_type": "markdown",
   "metadata": {},
   "source": [
    "# Coin Toss with ADVI Ajax"
   ]
  },
  {
   "cell_type": "code",
   "execution_count": 174,
   "metadata": {},
   "outputs": [],
   "source": [
    "try:\n",
    "  from ajax import Prior, Likelihood, Variational, ADVI\n",
    "except:\n",
    "  %pip install -qq git+https://github.com/patel-zeel/ajax.git\n",
    "  from ajax import Prior, Likelihood, Variational, ADVI\n",
    "\n",
    "try:\n",
    "  import optax\n",
    "except:\n",
    "  %pip install -qq optax\n",
    "  import optax\n",
    "\n",
    "try:\n",
    "  import tensorflow_probability.substrates.jax as tfp\n",
    "except:\n",
    "  %pip install -qq tensorflow_probability.substrates.jax\n",
    "  import tensorflow_probability.substrates.jax as tfp\n",
    "\n",
    "try:\n",
    "  import jax.numpy as jnp\n",
    "except:\n",
    "  %pip install -qq jax\n",
    "  import jax.numpy as jnp\n",
    "\n",
    "try:\n",
    "    import seaborn as sns\n",
    "except:\n",
    "    %pip install -qq seaborn \n",
    "    import seaborn as sns\n",
    "from ajax.utils import fill_params\n",
    "import jax\n",
    "import matplotlib.pyplot as plt\n",
    "import pickle\n",
    "tfd = tfp.distributions\n",
    "tfb = tfp.bijectors"
   ]
  },
  {
   "cell_type": "markdown",
   "metadata": {},
   "source": [
    "## **Lets' generate some data**"
   ]
  },
  {
   "cell_type": "code",
   "execution_count": 209,
   "metadata": {},
   "outputs": [],
   "source": [
    "theta_true = 0.8\n",
    "dist_samples = tfd.Bernoulli(probs=theta_true)\n",
    "dataset = dist_samples.sample(seed = jax.random.PRNGKey(100),sample_shape = (100,))"
   ]
  },
  {
   "cell_type": "markdown",
   "metadata": {},
   "source": [
    "## **We will use Beta distribution as a prior for $\\theta$**"
   ]
  },
  {
   "cell_type": "code",
   "execution_count": 210,
   "metadata": {},
   "outputs": [],
   "source": [
    "prior_alpha = 1\n",
    "prior_beta = 1\n",
    "\n",
    "prior = Prior(\n",
    "    distributions = {\n",
    "        \"theta\" : tfd.Beta(prior_alpha, prior_beta) #defined prior \n",
    "        }\n",
    "    )"
   ]
  },
  {
   "cell_type": "code",
   "execution_count": 211,
   "metadata": {},
   "outputs": [],
   "source": [
    "def get_likelihood_params(samples): #this function takes sample from our prior and gives it to likelihood function\n",
    "  probs = samples[\"theta\"]\n",
    "  return {\"probs\" : probs}\n",
    "\n",
    "likelihood = Likelihood(tfd.Bernoulli, get_likelihood_params) #defined likelihood "
   ]
  },
  {
   "cell_type": "code",
   "execution_count": 212,
   "metadata": {},
   "outputs": [],
   "source": [
    "variational = Variational(\n",
    "    prior=prior,\n",
    "    bijectors={\"theta\":tfb.Sigmoid()},  # Since, theta is between 0 and 1 we need to apply sigmoid bijector\n",
    "    vi_type=\"full_rank\"\n",
    ")\n",
    "advi = ADVI(prior, likelihood, variational, dataset)"
   ]
  },
  {
   "cell_type": "code",
   "execution_count": 213,
   "metadata": {},
   "outputs": [],
   "source": [
    "def train(n_itr,params):\n",
    "    tx = optax.adam(learning_rate=0.1)\n",
    "    state = tx.init(params)\n",
    "    value_and_grad_fun = jax.jit(jax.value_and_grad(advi.loss),static_argnames=['n_samples'])\n",
    "    seed = jax.random.PRNGKey(100)\n",
    "    losses = []\n",
    "    for i in range(n_itr):\n",
    "        seed = jax.random.split(seed, 1)[0]\n",
    "        loss, grads = value_and_grad_fun(params, seed = seed,n_samples = 10)\n",
    "        updates, state = tx.update(grads, state)\n",
    "        params = optax.apply_updates(params, updates)\n",
    "        losses.append(loss)\n",
    "    return params"
   ]
  },
  {
   "cell_type": "code",
   "execution_count": 214,
   "metadata": {},
   "outputs": [],
   "source": [
    "params = variational.get_params()\n",
    "params = train(100,params)"
   ]
  },
  {
   "cell_type": "code",
   "execution_count": 215,
   "metadata": {},
   "outputs": [],
   "source": [
    "# below is the mean, sd of transformed distribution on which sigmoid bijector was applied\n",
    "mean, sd = jax.tree_leaves(variational.transform_dist(params['theta']))\n",
    "sd = jnp.sqrt(sd.dot(sd.T))"
   ]
  },
  {
   "cell_type": "code",
   "execution_count": 216,
   "metadata": {},
   "outputs": [],
   "source": [
    "# here we do the inverse transform of the transformed distribution\n",
    "def transform(x):\n",
    "    jacobian = jax.jacobian(jax.scipy.special.logit)\n",
    "    vmap_jac = jax.vmap(jacobian)\n",
    "    derivative = abs(jnp.linalg.det(vmap_jac(x)))\n",
    "    x = x.reshape(x.shape[0],)\n",
    "    y = derivative * tfd.Normal(loc = mean, scale = sd).prob(jax.scipy.special.logit(x))\n",
    "    return y"
   ]
  },
  {
   "cell_type": "code",
   "execution_count": 220,
   "metadata": {},
   "outputs": [
    {
     "data": {
      "text/plain": [
       "Text(0, 0.5, 'PDF')"
      ]
     },
     "execution_count": 220,
     "metadata": {},
     "output_type": "execute_result"
    },
    {
     "data": {
      "image/png": "[encoded data removed]",
      "text/plain": [
       "<Figure size 432x288 with 1 Axes>"
      ]
     },
     "metadata": {
      "needs_background": "light"
     },
     "output_type": "display_data"
    }
   ],
   "source": [
    "x = jnp.linspace(0,1,1000)\n",
    "x_new= x.reshape((x.shape[0],1))\n",
    "y = transform(x_new).flatten()\n",
    "one= jnp.sum(dataset==1).astype('float32')\n",
    "zero= jnp.sum(dataset==0).astype('float32')\n",
    "beta_dist = tfd.Beta(prior_alpha+one, prior_beta+zero)\n",
    "post_pdf = beta_dist.prob(x)\n",
    "plt.plot(x,post_pdf,label = \"true\")\n",
    "plt.plot(x,y,label = \"advi estimate\")\n",
    "plt.legend()\n",
    "plt.xlabel(\"x\")\n",
    "plt.ylabel(\"PDF\")"
   ]
  }
 ],
 "metadata": {
  "kernelspec": {
   "display_name": "Python 3",
   "language": "python",
   "name": "python3"
  },
  "language_info": {
   "codemirror_mode": {
    "name": "ipython",
    "version": 3
   },
   "file_extension": ".py",
   "mimetype": "text/x-python",
   "name": "python",
   "nbconvert_exporter": "python",
   "pygments_lexer": "ipython3",
   "version": "3.7.13"
  }
 },
 "nbformat": 4,
 "nbformat_minor": 4
}
