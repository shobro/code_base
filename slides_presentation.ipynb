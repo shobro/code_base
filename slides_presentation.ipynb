{
 "cells": [
  {
   "cell_type": "markdown",
   "metadata": {
    "id": "QA0c3iTs73IY",
    "slideshow": {
     "slide_type": "slide"
    }
   },
   "source": [
    "# **Topics to be discussed**\n",
    "\n",
    "\n",
    "1.   Maximum likelihood estimate for Normal distribution\n",
    "2.   Biasedness in estimating parameters of Normal distribution.\n",
    "3.   Sampling Univariate Normal by Box-Müller Transform.\n",
    "4.   Why do we need normalization constant for normal distribution?\n",
    "\n"
   ]
  },
  {
   "cell_type": "markdown",
   "metadata": {
    "id": "m268C2VXybcS",
    "slideshow": {
     "slide_type": "slide"
    }
   },
   "source": [
    "# **Maximum likelihood estimate for Normal distribution**\n",
    "\n",
    "\n",
    "---\n",
    "## **What is likelihood?**\n",
    "\n",
    "Likelihood is the probability of observed data occuring given parameter $θ$ of the choosen statistical model.\n",
    "\n",
    "\\begin{equation}\n",
    "Likelihood =\\mathcal{L}(θ;D) =P(D;\\theta)\n",
    "\\end{equation}\n",
    "## **What is MLE ?**\n",
    "\n",
    "In maximum likelihood estimation, we estimate the values of parameters for which likelihood function maximize.\n",
    "\n",
    "\\begin{equation}\n",
    "MLE=\\hat{\\theta} = {argmax}\\ \\mathcal{L_n}(\\theta;D)\\ \\ \\ \\ \\ \\ \\ \\ where\\ \\theta\\epsilon\\Theta\n",
    "\\end{equation}\n",
    "\n",
    "\n"
   ]
  },
  {
   "cell_type": "markdown",
   "metadata": {
    "id": "gD4gEFlLZE_c",
    "slideshow": {
     "slide_type": "subslide"
    }
   },
   "source": [
    "## **What is MLE for Normal distribution**\n",
    "\n",
    "Let us consider a dataset X = {$x_1$, $x_2$, ......,$x_n$ }\n",
    "\n",
    "\n",
    "Also, $X \\sim \\mathcal{N}(\\mu,\\sigma^{2})\\$\n",
    "\n",
    "### **Likelihood for normal distribution**\n",
    "\n",
    "\\begin{equation}\n",
    "\\mathcal{L}(\\theta;X) = \\prod_{i=0}^{n-1} p(X = x_i;\\theta)\n",
    "\\end{equation}\n",
    "\n",
    "where $\\theta$ = [$\\mu$, $\\sigma$]\n",
    "\n",
    "Where $p(X = x_i;\\theta)$ is PDF or PMF of the distribution.\n",
    "\n",
    "#### **For Normal distribution PDF is**\n",
    "\n",
    "\\begin{equation}\n",
    "P(x;\\theta) = \\frac1{\\sqrt{2\\pi\\sigma^2}}{exp}^\\frac{(x_i-\\mu)^2}{-2\\sigma^2}\n",
    "\\end{equation}\n"
   ]
  },
  {
   "cell_type": "markdown",
   "metadata": {
    "slideshow": {
     "slide_type": "slide"
    }
   },
   "source": [
    "\n",
    "#### **Continuing on likelihood for normal distribution**\n",
    "\n",
    "Let us say we have observed some data $D = [x_0,x_1...x_n ]$\n",
    "\n",
    "\\begin{equation}\n",
    "\\mathcal{L}(\\theta;X) =\\ P(D;\\theta)\\ = \\prod_{i=0}^{n-1}  \\frac1{\\sqrt{2\\pi\\sigma^2}}{exp}^\\frac{(x_{i}-\\mu)^2}{-2\\sigma^2}\n",
    "\\end{equation}\n",
    "\n",
    "\\begin{equation}\n",
    "\\mathcal{L}(\\theta;X) = (\\frac1{\\sqrt{2\\pi\\sigma^2}})^{n} {exp}^\\frac{\\sum_{i=0}^{i=n-1}(x_i-\\mu)^2}{-2\\sigma^2}\n",
    "\\end{equation}\n",
    "\n",
    "#### **Log likelihood**\n",
    "\n",
    "\\begin{equation}\n",
    "\\mathcal{l}(\\theta;X) = log\\ \\mathcal{L}(\\theta;X)\n",
    "\\end{equation}\n",
    "\n",
    "\\begin{equation}\n",
    "\\mathcal{l}(\\theta;X) = n\\ log(\\frac1{\\sqrt{2\\pi\\sigma^2}})-\\frac{\\sum_{i=0}^{i=n-1}(x_i-\\mu)^2}{2\\sigma^2}\n",
    "\\end{equation}"
   ]
  },
  {
   "cell_type": "markdown",
   "metadata": {
    "id": "qJIxSndCYqxk",
    "slideshow": {
     "slide_type": "slide"
    }
   },
   "source": [
    "## **Now we will find MLE for normal distribution**\n",
    "\n",
    "We will now partially differentiate last equation with respect to $\\theta$ which consist of [$\\mu$, $\\sigma$] and set it to 0\n",
    "\n",
    "\\begin{equation}\n",
    "\\frac{\\partial\\mathcal{l(\\theta};D)}{\\partial\\mu} =\\frac{\\partial}{\\partial\\mu} (n\\ log(\\frac1{\\sqrt{2\\pi\\sigma^2}})-\\frac{\\sum_{i=0}^{i=n-1}(x_i-\\mu)^2}{2\\sigma^2}) = 0\n",
    "\\end{equation}\n",
    "\n",
    "\\begin{equation}\n",
    "\\mu_{mle} = \\frac{\\sum_{i=0}^{n-1}(x_i)}{n}\n",
    "\\end{equation}\n",
    "\n"
   ]
  },
  {
   "cell_type": "markdown",
   "metadata": {
    "slideshow": {
     "slide_type": "slide"
    }
   },
   "source": [
    "\\begin{equation}\n",
    "\\frac{\\partial\\mathcal{l(\\theta};D)}{\\partial\\sigma} =\\frac{\\partial}{\\partial\\sigma} (n\\ log(\\frac1{\\sqrt{2\\pi\\sigma^2}})-\\frac{\\sum_{i=0}^{i=n-1}(x_i-\\mu)^2}{2\\sigma^2}) = 0\n",
    "\\end{equation}\n",
    "\n",
    "\n",
    "\n",
    "\\begin{equation}\n",
    "\\sigma_{mle} = \\sqrt{\\frac{\\sum_{i=0}^{n-1}(x_i-\\mu_{mle})^2}{n}}\n",
    "\\end{equation}"
   ]
  },
  {
   "cell_type": "markdown",
   "metadata": {
    "id": "8JOUkXg1kwWJ",
    "slideshow": {
     "slide_type": "slide"
    }
   },
   "source": [
    "## **Key Takeways**\n",
    "\n",
    "If given a dataset {$x_0$,$x_1$,$x_2$,$x_3$......$x_n$} and you want to fit a univariate normal over it then your best bet will be on the following values. \n",
    "\n",
    "1.$\\mu_{mle}$ = $\\frac{\\sum_{i=0}^{n-1}(x_i)}{n}$\n",
    "\n",
    "2.$\\sigma_{mle}$ = $\\sqrt{\\frac{\\sum_{i=0}^{n-1}(x_i-\\mu_{mle})^2}{n}}$\n",
    "\n"
   ]
  },
  {
   "cell_type": "code",
   "execution_count": 1,
   "metadata": {
    "colab": {
     "base_uri": "https://localhost:8080/"
    },
    "id": "zCICw4dzMH6Y",
    "outputId": "b3363136-159f-41ee-c248-e8716ecf6454",
    "slideshow": {
     "slide_type": "slide"
    }
   },
   "outputs": [],
   "source": [
    "try:\n",
    "  import distrax\n",
    "except:\n",
    "  %pip install -qq distrax\n",
    "  import distrax\n",
    "try:\n",
    "    import seaborn as sns\n",
    "except:\n",
    "    %pip install seaborn\n",
    "    import seaborn as sns\n",
    "try:\n",
    "  import jax\n",
    "  import jax.numpy as jnp\n",
    "except:\n",
    "  %pip install -qq jax\n",
    "  import jax\n",
    "  import jax.numpy as jnp\n",
    "\n",
    "try:\n",
    "  import matplotlib.pyplot as plt\n",
    "except:\n",
    "  %pip install -qq matplotlib\n",
    "  import matplotlib.pyplot as plt\n",
    "\n",
    "try:\n",
    "  import optax\n",
    "except:\n",
    "  %pip install -qq optax\n",
    "  import optax"
   ]
  },
  {
   "cell_type": "code",
   "execution_count": 3,
   "metadata": {
    "id": "vIxvhgFDoz95",
    "slideshow": {
     "slide_type": "slide"
    }
   },
   "outputs": [
    {
     "name": "stderr",
     "output_type": "stream",
     "text": [
      "WARNING:absl:No GPU/TPU found, falling back to CPU. (Set TF_CPP_MIN_LOG_LEVEL=0 and rerun for more info.)\n"
     ]
    },
    {
     "data": {
      "text/plain": [
       "DeviceArray([3.92603   , 3.9767542 , 3.558783  , 3.0179455 , 1.3739038 ,\n",
       "             3.6095047 , 2.4973936 , 3.649794  , 5.748624  , 4.8349547 ,\n",
       "             3.91154   , 3.9340787 , 2.2267294 , 1.6969573 , 5.0541067 ,\n",
       "             5.352936  , 1.4028751 , 4.5072684 , 5.1001005 , 3.4607863 ,\n",
       "             5.5017376 , 2.122274  , 0.86931944, 2.9107697 , 0.7332144 ,\n",
       "             5.7931714 , 1.9632198 , 1.5772264 , 4.7388873 , 5.389656  ,\n",
       "             5.958115  , 1.3539832 , 4.759739  , 3.1171305 , 3.2148287 ,\n",
       "             1.4764075 , 3.763061  , 3.5909772 , 4.746722  , 2.59665   ,\n",
       "             5.4242697 , 5.4669795 , 1.3547294 , 4.5743384 , 3.7063255 ,\n",
       "             2.7989883 , 3.8633423 , 3.6925926 , 3.1226122 , 1.3622106 ],            dtype=float32)"
      ]
     },
     "execution_count": 3,
     "metadata": {},
     "output_type": "execute_result"
    }
   ],
   "source": [
    "key = jax.random.PRNGKey(5)\n",
    "mu_true = 3.0\n",
    "sigma_true = 1.5\n",
    "normal = distrax.Normal(loc = mu_true, scale = sigma_true)\n",
    "dataset = normal.sample(seed = key, sample_shape=(50,))\n",
    "dataset"
   ]
  },
  {
   "cell_type": "code",
   "execution_count": 4,
   "metadata": {
    "colab": {
     "base_uri": "https://localhost:8080/"
    },
    "id": "djDpPxv_p_bA",
    "outputId": "3ed9bd90-c0f3-40e8-8bf7-53d7b7497b44",
    "slideshow": {
     "slide_type": "slide"
    }
   },
   "outputs": [
    {
     "name": "stdout",
     "output_type": "stream",
     "text": [
      "Theoretical value of mu and sigma is 3.4876906871795654 1.463478446006775\n"
     ]
    }
   ],
   "source": [
    "mu_mle = jnp.mean(dataset)\n",
    "sigma_mle = jnp.sqrt(jnp.mean((dataset-mu_mle)**2))\n",
    "print(f\"Theoretical value of mu and sigma is {mu_mle} {sigma_mle}\")"
   ]
  },
  {
   "cell_type": "markdown",
   "metadata": {
    "id": "D-suGhCesGEI",
    "slideshow": {
     "slide_type": "slide"
    }
   },
   "source": [
    "### Let us calculate values for $\\mu$ and $\\sigma$ by auto differentiation"
   ]
  },
  {
   "cell_type": "code",
   "execution_count": 6,
   "metadata": {
    "id": "QWyEgrmFrJhN",
    "slideshow": {
     "slide_type": "slide"
    }
   },
   "outputs": [],
   "source": [
    "def loss(theta, samples):\n",
    "  normal = distrax.Normal(loc = theta[0], scale = theta[1])\n",
    "  return -jnp.sum(normal.log_prob(samples))"
   ]
  },
  {
   "cell_type": "code",
   "execution_count": 7,
   "metadata": {
    "colab": {
     "base_uri": "https://localhost:8080/"
    },
    "id": "bJiiBY-nt1vv",
    "outputId": "6118b899-9b25-4d12-91de-3cb0ce8a7bfc",
    "slideshow": {
     "slide_type": "slide"
    }
   },
   "outputs": [
    {
     "name": "stdout",
     "output_type": "stream",
     "text": [
      "Value of mu and sigma by auto differentition is 3.4876909255981445 1.4634785652160645\n"
     ]
    }
   ],
   "source": [
    "def fit(theta,optimizer,n_itr):\n",
    "  opt_state = optimizer.init(theta)\n",
    "  def step(theta,opt_state,samples):\n",
    "    loss_value, grads = jax.value_and_grad(loss)(theta,samples)\n",
    "    updates, opt_state = optimizer.update(grads,opt_state,theta)\n",
    "    theta = optax.apply_updates(theta,updates)\n",
    "    return theta, opt_state, loss_value\n",
    "\n",
    "  for i in range(n_itr):\n",
    "    theta,opt_state,loss_value = step(theta, opt_state,dataset)\n",
    "  return theta\n",
    "\n",
    "optimizer = optax.adam(learning_rate= 1e-1)\n",
    "theta_init = jnp.array([10.0,14.0])\n",
    "theta = fit(theta_init,optimizer,n_itr = 400)\n",
    "print(f\"Value of mu and sigma by auto differentition is {theta[0]} {theta[1]}\")"
   ]
  },
  {
   "cell_type": "markdown",
   "metadata": {
    "id": "GeUhmDA6dT_Z",
    "slideshow": {
     "slide_type": "slide"
    }
   },
   "source": [
    "\n",
    "# **What is Estimator?** \n",
    "\n",
    "An estimator is a rule or function for calculating an estimate of the parameters for the given distribution based on observed data.\n",
    "\n",
    "For eg . \n",
    "\\begin{equation}\n",
    "\\mu_{mle} = \\frac{\\sum_{i=0}^{n-1}(x_i)}{n}\\ \\ \\ is\\ an\\ estimator\\ for\\ the\\  dataset\\ {x_0,x_1,x_2,x_3.....,x_n}.\n",
    "\\end{equation}\n",
    "\n",
    "\n",
    "# **What is Unbiasedness ?**\n",
    "\n",
    "Estimator is unbiased if the **expected value of the estimator matches** that of the parameter\n",
    "\n",
    "E[$\\mu_{mle}]$ = $\\mu_{true}$ = $E[X]$to become unbiased. \n",
    "\n"
   ]
  },
  {
   "cell_type": "markdown",
   "metadata": {
    "id": "nK_IoMmdjocA",
    "slideshow": {
     "slide_type": "slide"
    }
   },
   "source": [
    "## **Two big statements**\n",
    "\n",
    "\n",
    "1.   $\\mu_{mle}$ is an unbiased estimator.\n",
    "2.   $\\sigma_{mle}$ is biased estimator.\n",
    "\n",
    "\n",
    "\n",
    "$\\mu_{mle}$ is ***unbiased estimator*** because $\\mu_{mle} = \\frac{\\sum_{i=0}^{n-1}(x_i)}{n}$ is a linear function. \n",
    "\n",
    "$\\sigma_{mle}$ is **biased estimator** because $\\sigma_{mle} = \\sqrt{\\frac{\\sum_{i=0}^{n-1}(x_i-\\mu_{mle})^2}{n}}$ is non-linear function.\n"
   ]
  },
  {
   "cell_type": "markdown",
   "metadata": {
    "id": "jyfHUmJgh5vQ",
    "slideshow": {
     "slide_type": "slide"
    }
   },
   "source": [
    "<center><img src=\"biased.png\"/></center>\n",
    "\n",
    "\n",
    "Let the big square be the entire sample space and small squares be our drawned samples.\n",
    "\n",
    "\n",
    "\n",
    "**So can we say??**\n",
    "\\begin{equation}\n",
    "E[\\mu_{mle}] = \\mu_{true} = E[X]\n",
    "\\end{equation}\n",
    "\n",
    "**But can we say??**\n",
    "\\begin{equation}\n",
    "E[\\sigma_{mle}] = \\sigma_{true} = E[(X-\\mu_{true})^2]\n",
    "\\end{equation}"
   ]
  },
  {
   "cell_type": "markdown",
   "metadata": {
    "id": "S_zFa_HOzNzu",
    "slideshow": {
     "slide_type": "slide"
    }
   },
   "source": [
    "## **Sampling Univariate Normal by Box-Müller Transform** \n",
    "\n",
    "Box-Müller Transform is a random number sampling method for generating pairs of independent, standard, normally distributed $\\mathcal{N}\\sim$[0,1] random numbers, given a source of uniformly distributed random numbers in interval [0 and 1].\n",
    "\n",
    "We can consider Box-Müller as a black box which takes two uniform samples between[0, 1] and gives two $\\mathcal{N}\\sim$[0,1] samples.\n",
    "<center><img src=\"box_muller.jpg\"/></center>\n",
    "\n"
   ]
  },
  {
   "cell_type": "markdown",
   "metadata": {
    "slideshow": {
     "slide_type": "slide"
    }
   },
   "source": [
    "\\begin{equation}\n",
    "n_1 = \\sqrt{-2\\pi log(u_1)}.cos(2\\pi u_2)\n",
    "\\end{equation}\n",
    "\\begin{equation}\n",
    "n_2 = \\sqrt{-2\\pi log(u_1)}.sin(2\\pi u_2)\n",
    "\\end{equation}\n",
    "\n",
    "\n",
    "### **Now let us generate Normally distributed samples with $\\mu$ = 0, and $\\sigma$ = 1 with uniformly distributed numbers programmatically**"
   ]
  },
  {
   "cell_type": "code",
   "execution_count": 13,
   "metadata": {
    "colab": {
     "base_uri": "https://localhost:8080/",
     "height": 296
    },
    "id": "-sIq2koQQe0V",
    "outputId": "2900a44e-ba2a-4e23-dfe2-10cfa5a9d850",
    "slideshow": {
     "slide_type": "slide"
    }
   },
   "outputs": [
    {
     "data": {
      "text/plain": [
       "<AxesSubplot:ylabel='Count'>"
      ]
     },
     "execution_count": 13,
     "metadata": {},
     "output_type": "execute_result"
    },
    {
     "data": {
      "image/png": "[encoded data removed]",
      "text/plain": [
       "<Figure size 432x288 with 1 Axes>"
      ]
     },
     "metadata": {
      "needs_background": "light"
     },
     "output_type": "display_data"
    }
   ],
   "source": [
    "seed = jax.random.PRNGKey(20)\n",
    "samples_shape = 20000\n",
    "uniform_samples = jax.random.uniform(key = seed, shape = (samples_shape,))\n",
    "sns.histplot(data=uniform_samples,bins =10)"
   ]
  },
  {
   "cell_type": "code",
   "execution_count": 11,
   "metadata": {
    "colab": {
     "base_uri": "https://localhost:8080/",
     "height": 265
    },
    "id": "OU3poxSORNSq",
    "outputId": "61f645bc-50f4-4d97-c119-3e1107447f98",
    "slideshow": {
     "slide_type": "slide"
    }
   },
   "outputs": [
    {
     "data": {
      "text/plain": [
       "<AxesSubplot:ylabel='Count'>"
      ]
     },
     "execution_count": 11,
     "metadata": {},
     "output_type": "execute_result"
    },
    {
     "data": {
      "image/png": "[encoded data removed]",
      "text/plain": [
       "<Figure size 432x288 with 1 Axes>"
      ]
     },
     "metadata": {
      "needs_background": "light"
     },
     "output_type": "display_data"
    }
   ],
   "source": [
    "U_1 = uniform_samples[:int(samples_shape/2)]\n",
    "U_2 = uniform_samples[int(samples_shape/2):]\n",
    "X_1 = jnp.sqrt(-2*jnp.log(U_1))*jnp.cos(2*jnp.pi*U_2)\n",
    "X_2 = jnp.sqrt(-2*jnp.log(U_1))*jnp.sin(2*jnp.pi*U_2)\n",
    "X = jnp.concatenate([X_1,X_2],axis = 0)\n",
    "sns.histplot(data = X)"
   ]
  },
  {
   "cell_type": "markdown",
   "metadata": {
    "id": "WaSNdgiJY6Oj",
    "slideshow": {
     "slide_type": "slide"
    }
   },
   "source": [
    "## **Samples for general normal distribution $\\mathcal{N}\\sim(\\mu, \\sigma)$ from Box Muller Algorithm**\n",
    "\n",
    "\n",
    "Suppose we have samples from standard normal distribution $\\mathcal{N}\\sim(0, 1)$ \n",
    "\n",
    "Then we can generate general normal distribution $\\mathcal{N}\\sim(\\mu, \\sigma)$ given by,\n",
    "\n",
    "\\begin{equation}\n",
    "Y\\ =\\ \\mu\\ +\\ \\sigma X\n",
    "\\end{equation}\n",
    "\\begin{equation}\n",
    "Where X \\sim \\mathcal{N}(0,1)\n",
    "\\end{equation}\n",
    "\n",
    "## **Now lets do this programmatically** "
   ]
  },
  {
   "cell_type": "code",
   "execution_count": 14,
   "metadata": {
    "colab": {
     "base_uri": "https://localhost:8080/",
     "height": 282
    },
    "id": "QfP0SkyBRNbt",
    "outputId": "8362e947-aabe-4e00-ff40-8f9cc4ac2158",
    "slideshow": {
     "slide_type": "slide"
    }
   },
   "outputs": [
    {
     "name": "stdout",
     "output_type": "stream",
     "text": [
      "standard deviation for the dataset Y is 4.011034965515137\n"
     ]
    },
    {
     "data": {
      "text/plain": [
       "<AxesSubplot:ylabel='Count'>"
      ]
     },
     "execution_count": 14,
     "metadata": {},
     "output_type": "execute_result"
    },
    {
     "data": {
      "image/png": "[encoded data removed]",
      "text/plain": [
       "<Figure size 432x288 with 1 Axes>"
      ]
     },
     "metadata": {
      "needs_background": "light"
     },
     "output_type": "display_data"
    }
   ],
   "source": [
    "mu = 10\n",
    "sigma = 4\n",
    "Y = mu+X*sigma\n",
    "print(f\"standard deviation for the dataset Y is {jnp.sqrt(jax.numpy.var(Y))}\")\n",
    "sns.histplot(data = Y)"
   ]
  },
  {
   "cell_type": "markdown",
   "metadata": {
    "id": "0ARGi_20vHpr",
    "slideshow": {
     "slide_type": "slide"
    }
   },
   "source": [
    "## **Why do we need normalization constant for normal distribution?**\n",
    "\n",
    "\\begin{equation}\n",
    "P(x;\\theta) = \\frac1{\\sqrt{2\\pi\\sigma^2}}{exp}^\\frac{(x_i-\\mu)^2}{-2\\sigma^2}\n",
    "\\end{equation}\n",
    "\n",
    "In the equation above $\\frac1{\\sqrt{2\\pi\\sigma^2}}$ is normalization constant. \n",
    "\n",
    "\n",
    "\n",
    "**But why do we need it???**\n"
   ]
  },
  {
   "cell_type": "markdown",
   "metadata": {
    "id": "1_WVXgx00a3u",
    "slideshow": {
     "slide_type": "slide"
    }
   },
   "source": [
    "We need it to satisfy most basic property for a **PDF** that is\n",
    "\n",
    "\\begin{equation}\n",
    "\\int_{-\\infty}^{\\infty}P(x;\\theta)d\\theta = 1\n",
    "\\end{equation}\n",
    "\n"
   ]
  },
  {
   "cell_type": "code",
   "execution_count": null,
   "metadata": {
    "id": "1S6MoJt6vELJ",
    "slideshow": {
     "slide_type": "slide"
    }
   },
   "outputs": [],
   "source": [
    " "
   ]
  }
 ],
 "metadata": {
  "celltoolbar": "Slideshow",
  "colab": {
   "collapsed_sections": [],
   "name": "slides_presentation",
   "provenance": []
  },
  "kernelspec": {
   "display_name": "Python 3",
   "language": "python",
   "name": "python3"
  },
  "language_info": {
   "codemirror_mode": {
    "name": "ipython",
    "version": 3
   },
   "file_extension": ".py",
   "mimetype": "text/x-python",
   "name": "python",
   "nbconvert_exporter": "python",
   "pygments_lexer": "ipython3",
   "version": "3.7.13"
  }
 },
 "nbformat": 4,
 "nbformat_minor": 1
}
